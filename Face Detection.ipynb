{
 "cells": [
  {
   "cell_type": "code",
   "execution_count": 1,
   "metadata": {},
   "outputs": [],
   "source": [
    "import cv2\n",
    "import numpy as np"
   ]
  },
  {
   "cell_type": "code",
   "execution_count": 2,
   "metadata": {},
   "outputs": [],
   "source": [
    "#to load pre-trained classifier moddel.we can make our own classifier but it came along with open cv for practive purpose..\n",
    "face=cv2.CascadeClassifier(\"face_rec.xml\")"
   ]
  },
  {
   "cell_type": "code",
   "execution_count": 3,
   "metadata": {},
   "outputs": [
    {
     "name": "stdout",
     "output_type": "stream",
     "text": [
      "No of face detected: 1\n"
     ]
    },
    {
     "data": {
      "text/plain": [
       "-1"
      ]
     },
     "execution_count": 3,
     "metadata": {},
     "output_type": "execute_result"
    }
   ],
   "source": [
    "#to read image.\n",
    "img=cv2.imread(\"ercel.jpg\")\n",
    "\n",
    "#to convert images into grayscale as it makes quite easy to detect faces.\n",
    "gray=cv2.cvtColor(img,cv2.COLOR_BGR2GRAY)\n",
    "\n",
    "#to detect faces.\n",
    "faces=face.detectMultiScale(gray,1.1,4)\n",
    "\n",
    "#if no images are provided then print \"no image found.\" \n",
    "if len(faces)==0:\n",
    "    print(\"No images found\")\n",
    "    \n",
    "#print no of images found..\n",
    "else:\n",
    "    print(\"No of face detected: \"+str(faces.shape[0]))\n",
    "    \n",
    "# to draw circle at images we can draw rectangle also\n",
    "for (x,y,w,h) in faces:\n",
    "    cc=x + w // 2, y + h // 2\n",
    "    \n",
    "    #here parameter are image,centre-coordinate,radius of circle,colour of circle,thickness..\n",
    "    cv2.circle(img,cc,90,(0,2555,10),2)\n",
 
    "\n",
    "#to show images.\n",
    "cv2.imshow(\"img\",img)\n",
    "cv2.waitKey(0)"
   ]
  },
  {
   "cell_type": "code",
   "execution_count": null,
   "metadata": {},
   "outputs": [],
   "source": []
  },
  {
   "cell_type": "code",
   "execution_count": null,
   "metadata": {},
   "outputs": [],
   "source": []
  }
 ],
 "metadata": {
  "kernelspec": {
   "display_name": "Python 3",
   "language": "python",
   "name": "python3"
  },
  "language_info": {
   "codemirror_mode": {
    "name": "ipython",
    "version": 3
   },
   "file_extension": ".py",
   "mimetype": "text/x-python",
   "name": "python",
   "nbconvert_exporter": "python",
   "pygments_lexer": "ipython3",
   "version": "3.8.2"
  }
 },
 "nbformat": 4,
 "nbformat_minor": 4
}
